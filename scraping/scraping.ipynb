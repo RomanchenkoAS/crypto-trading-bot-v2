{
 "cells": [
  {
   "cell_type": "markdown",
   "source": [
    "# Imports & initial setup"
   ],
   "metadata": {
    "collapsed": false
   },
   "id": "b23c9dc0ba71ec5d"
  },
  {
   "cell_type": "code",
   "execution_count": 41,
   "id": "9e7879b2c2f96de1",
   "metadata": {
    "collapsed": true,
    "ExecuteTime": {
     "end_time": "2023-10-27T18:10:56.981453778Z",
     "start_time": "2023-10-27T18:10:56.884369372Z"
    }
   },
   "outputs": [],
   "source": [
    "import requests\n",
    "import pandas as pd\n",
    "from datetime import datetime, timedelta\n",
    "import plotly.graph_objects as go\n",
    "\n",
    "CURRENCY_PAIR = \"btcusd\"\n",
    "URL = f\"https://www.bitstamp.net/api/v2/ohlc/{CURRENCY_PAIR}/\""
   ]
  },
  {
   "cell_type": "markdown",
   "source": [
    "## Variables"
   ],
   "metadata": {
    "collapsed": false
   },
   "id": "238ae1915e3ac9c2"
  },
  {
   "cell_type": "code",
   "execution_count": 42,
   "outputs": [],
   "source": [
    "DAYS = 10\n",
    "FREQUENCY: str = \"6H\""
   ],
   "metadata": {
    "collapsed": false,
    "ExecuteTime": {
     "end_time": "2023-10-27T18:10:57.020791780Z",
     "start_time": "2023-10-27T18:10:56.898031113Z"
    }
   },
   "id": "8884255354a84e7e"
  },
  {
   "cell_type": "markdown",
   "source": [
    "## Basic calculations"
   ],
   "metadata": {
    "collapsed": false
   },
   "id": "80b48cf3ccdd2c9a"
  },
  {
   "cell_type": "code",
   "execution_count": 45,
   "outputs": [
    {
     "name": "stdout",
     "output_type": "stream",
     "text": [
      "Dates:  ['10/18/2023, 06:21:16', '10/18/2023, 12:21:16', '10/18/2023, 18:21:16', '10/19/2023, 00:21:16', '10/19/2023, 06:21:16', '10/19/2023, 12:21:16', '10/19/2023, 18:21:16', '10/20/2023, 00:21:16', '10/20/2023, 06:21:16', '10/20/2023, 12:21:16', '10/20/2023, 18:21:16', '10/21/2023, 00:21:16', '10/21/2023, 06:21:16', '10/21/2023, 12:21:16', '10/21/2023, 18:21:16', '10/22/2023, 00:21:16', '10/22/2023, 06:21:16', '10/22/2023, 12:21:16', '10/22/2023, 18:21:16', '10/23/2023, 00:21:16', '10/23/2023, 06:21:16', '10/23/2023, 12:21:16', '10/23/2023, 18:21:16', '10/24/2023, 00:21:16', '10/24/2023, 06:21:16', '10/24/2023, 12:21:16', '10/24/2023, 18:21:16', '10/25/2023, 00:21:16', '10/25/2023, 06:21:16', '10/25/2023, 12:21:16', '10/25/2023, 18:21:16', '10/26/2023, 00:21:16', '10/26/2023, 06:21:16', '10/26/2023, 12:21:16', '10/26/2023, 18:21:16', '10/27/2023, 00:21:16', '10/27/2023, 06:21:16', '10/27/2023, 12:21:16', '10/27/2023, 18:21:16', '10/28/2023, 00:21:16', '10/28/2023, 06:21:16']\n"
     ]
    }
   ],
   "source": [
    "end = datetime.now()\n",
    "start = end - timedelta(DAYS)\n",
    "\n",
    "# Calculate dates list\n",
    "dates = pd.date_range(start, end, freq=FREQUENCY)\n",
    "dates = [int(x.value / 10 ** 9) for x in list(dates)]\n",
    "\n",
    "# Inspect date range\n",
    "print(\"Dates: \", [datetime.fromtimestamp(x).strftime(\"%m/%d/%Y, %H:%M:%S\") for x in dates])\n"
   ],
   "metadata": {
    "collapsed": false,
    "ExecuteTime": {
     "end_time": "2023-10-27T18:21:16.215422505Z",
     "start_time": "2023-10-27T18:21:16.169251205Z"
    }
   },
   "id": "initial_id"
  },
  {
   "cell_type": "markdown",
   "source": [],
   "metadata": {
    "collapsed": false
   },
   "id": "eb6c2e4f8b299e3d"
  },
  {
   "cell_type": "code",
   "execution_count": 43,
   "outputs": [],
   "source": [],
   "metadata": {
    "collapsed": false,
    "ExecuteTime": {
     "end_time": "2023-10-27T18:10:57.035338612Z",
     "start_time": "2023-10-27T18:10:56.943118009Z"
    }
   },
   "id": "ee560cb0f1de1d69"
  },
  {
   "cell_type": "code",
   "execution_count": 44,
   "outputs": [
    {
     "name": "stdout",
     "output_type": "stream",
     "text": [
      "2023-10-28 00:10:56.907718\n"
     ]
    }
   ],
   "source": [
    "print(end)"
   ],
   "metadata": {
    "collapsed": false,
    "ExecuteTime": {
     "end_time": "2023-10-27T18:10:57.036307477Z",
     "start_time": "2023-10-27T18:10:56.985970914Z"
    }
   },
   "id": "9198287dd6cb4f7f"
  }
 ],
 "metadata": {
  "kernelspec": {
   "display_name": "Python 3",
   "language": "python",
   "name": "python3"
  },
  "language_info": {
   "codemirror_mode": {
    "name": "ipython",
    "version": 2
   },
   "file_extension": ".py",
   "mimetype": "text/x-python",
   "name": "python",
   "nbconvert_exporter": "python",
   "pygments_lexer": "ipython2",
   "version": "2.7.6"
  }
 },
 "nbformat": 4,
 "nbformat_minor": 5
}
