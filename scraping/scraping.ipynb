{
 "cells": [
  {
   "cell_type": "markdown",
   "source": [
    "# Imports & initial setup"
   ],
   "metadata": {
    "collapsed": false
   },
   "id": "b23c9dc0ba71ec5d"
  },
  {
   "cell_type": "code",
   "execution_count": 0,
   "id": "9e7879b2c2f96de1",
   "metadata": {
    "collapsed": true
   },
   "outputs": [],
   "source": [
    "import requests\n",
    "import pandas as pd\n",
    "from datetime import datetime, timedelta\n",
    "import plotly.graph_objects as go\n",
    "\n",
    "CURRENCY_PAIR = \"btcusd\"\n",
    "URL = f\"https://www.bitstamp.net/api/v2/ohlc/{CURRENCY_PAIR}/\""
   ]
  },
  {
   "cell_type": "markdown",
   "source": [
    "## Variables"
   ],
   "metadata": {
    "collapsed": false
   },
   "id": "238ae1915e3ac9c2"
  },
  {
   "cell_type": "code",
   "execution_count": null,
   "outputs": [],
   "source": [
    "DAYS = 10\n",
    "FREQUENCY: str = \"6H\""
   ],
   "metadata": {
    "collapsed": false
   },
   "id": "8884255354a84e7e"
  },
  {
   "cell_type": "markdown",
   "source": [
    "## Basic calculations"
   ],
   "metadata": {
    "collapsed": false
   },
   "id": "80b48cf3ccdd2c9a"
  },
  {
   "cell_type": "code",
   "execution_count": 4,
   "outputs": [],
   "source": [
    "end = datetime.now()\n",
    "start = end - timedelta(DAYS)\n",
    "\n",
    "# Calculate dates \n",
    "dates = pd.date_range(start, end, freq=FREQUENCY)\n",
    "dates = [int(x.value / 10 ** 9) for x in list(dates)]"
   ],
   "metadata": {
    "collapsed": false,
    "ExecuteTime": {
     "start_time": "2023-10-27T17:46:54.945559733Z"
    }
   },
   "id": "initial_id"
  },
  {
   "cell_type": "markdown",
   "source": [],
   "metadata": {
    "collapsed": false
   },
   "id": "eb6c2e4f8b299e3d"
  },
  {
   "cell_type": "code",
   "execution_count": 5,
   "outputs": [],
   "source": [],
   "metadata": {
    "collapsed": false,
    "ExecuteTime": {
     "end_time": "2023-10-27T17:46:55.316919441Z",
     "start_time": "2023-10-27T17:46:54.990858383Z"
    }
   },
   "id": "ee560cb0f1de1d69"
  },
  {
   "cell_type": "code",
   "execution_count": 6,
   "outputs": [
    {
     "name": "stdout",
     "output_type": "stream",
     "text": [
      "2023-10-27 23:46:54.966435\n"
     ]
    }
   ],
   "source": [
    "print(end)"
   ],
   "metadata": {
    "collapsed": false,
    "ExecuteTime": {
     "end_time": "2023-10-27T17:46:55.323772977Z",
     "start_time": "2023-10-27T17:46:54.992902511Z"
    }
   },
   "id": "9198287dd6cb4f7f"
  }
 ],
 "metadata": {
  "kernelspec": {
   "display_name": "Python 3",
   "language": "python",
   "name": "python3"
  },
  "language_info": {
   "codemirror_mode": {
    "name": "ipython",
    "version": 2
   },
   "file_extension": ".py",
   "mimetype": "text/x-python",
   "name": "python",
   "nbconvert_exporter": "python",
   "pygments_lexer": "ipython2",
   "version": "2.7.6"
  }
 },
 "nbformat": 4,
 "nbformat_minor": 5
}
